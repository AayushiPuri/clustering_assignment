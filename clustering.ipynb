{
  "cells": [
    {
      "cell_type": "markdown",
      "metadata": {
        "id": "view-in-github",
        "colab_type": "text"
      },
      "source": [
        "<a href=\"https://colab.research.google.com/github/AayushiPuri/clustering_assignment/blob/main/clustering.ipynb\" target=\"_parent\"><img src=\"https://colab.research.google.com/assets/colab-badge.svg\" alt=\"Open In Colab\"/></a>"
      ]
    },
    {
      "cell_type": "code",
      "execution_count": 1,
      "metadata": {
        "id": "vov6jHxTQ48K"
      },
      "outputs": [],
      "source": [
        "import numpy as np\n",
        "import pandas as pd\n",
        "from sklearn.datasets import load_wine\n",
        "from sklearn.preprocessing import StandardScaler, MinMaxScaler\n",
        "from sklearn.decomposition import PCA\n",
        "from sklearn.cluster import KMeans\n",
        "from sklearn.metrics import silhouette_score, calinski_harabasz_score, davies_bouldin_score\n",
        "from sklearn.cluster import AgglomerativeClustering\n",
        "from sklearn.cluster import SpectralClustering\n",
        "from tabulate import tabulate\n",
        "import warnings\n",
        "warnings.filterwarnings(\"ignore\")"
      ]
    },
    {
      "cell_type": "code",
      "execution_count": 2,
      "metadata": {
        "id": "-9avP1RIQ48L"
      },
      "outputs": [],
      "source": [
        "wine = load_wine()\n",
        "X=wine.data"
      ]
    },
    {
      "cell_type": "markdown",
      "metadata": {
        "id": "cPtDNcQYQ48L"
      },
      "source": [
        "## KMeans"
      ]
    },
    {
      "cell_type": "markdown",
      "metadata": {
        "id": "HzNif8hDQ48M"
      },
      "source": [
        "#### N = 3"
      ]
    },
    {
      "cell_type": "code",
      "execution_count": 3,
      "metadata": {
        "colab": {
          "base_uri": "https://localhost:8080/"
        },
        "id": "q97FdDsJQ48M",
        "outputId": "4f7670f8-3d9a-4c2d-82c8-0e002c3dfb4c"
      },
      "outputs": [
        {
          "output_type": "stream",
          "name": "stdout",
          "text": [
            "┏━━━━━━━━━━━━━━━━━━━━━━━━━━━━━━━━━┳━━━━━━━━━━━━━━━━━━━━┳━━━━━━━━━━━━━━━━━━━━━━━━━━━┳━━━━━━━━━━━━━━━━━━━━━━━━┓\n",
            "┃ Preprocessing Technique         ┃   Silhouette Score ┃   Calinski-Harabasz Score ┃   Davies-Bouldin Score ┃\n",
            "┣━━━━━━━━━━━━━━━━━━━━━━━━━━━━━━━━━╋━━━━━━━━━━━━━━━━━━━━╋━━━━━━━━━━━━━━━━━━━━━━━━━━━╋━━━━━━━━━━━━━━━━━━━━━━━━┫\n",
            "┃ No Preprocessing                ┃           0.571138 ┃                  561.816  ┃               0.534243 ┃\n",
            "┣━━━━━━━━━━━━━━━━━━━━━━━━━━━━━━━━━╋━━━━━━━━━━━━━━━━━━━━╋━━━━━━━━━━━━━━━━━━━━━━━━━━━╋━━━━━━━━━━━━━━━━━━━━━━━━┫\n",
            "┃ Normalization                   ┃           0.300894 ┃                   83.3511 ┃               1.30864  ┃\n",
            "┣━━━━━━━━━━━━━━━━━━━━━━━━━━━━━━━━━╋━━━━━━━━━━━━━━━━━━━━╋━━━━━━━━━━━━━━━━━━━━━━━━━━━╋━━━━━━━━━━━━━━━━━━━━━━━━┫\n",
            "┃ PCA                             ┃           0.572255 ┃                  562.519  ┃               0.532969 ┃\n",
            "┣━━━━━━━━━━━━━━━━━━━━━━━━━━━━━━━━━╋━━━━━━━━━━━━━━━━━━━━╋━━━━━━━━━━━━━━━━━━━━━━━━━━━╋━━━━━━━━━━━━━━━━━━━━━━━━┫\n",
            "┃ Transform + Normalization       ┃           0.470277 ┃                  197.371  ┃               0.825599 ┃\n",
            "┣━━━━━━━━━━━━━━━━━━━━━━━━━━━━━━━━━╋━━━━━━━━━━━━━━━━━━━━╋━━━━━━━━━━━━━━━━━━━━━━━━━━━╋━━━━━━━━━━━━━━━━━━━━━━━━┫\n",
            "┃ Transform + Normalization + PCA ┃           0.568059 ┃                  376.263  ┃               0.584813 ┃\n",
            "┗━━━━━━━━━━━━━━━━━━━━━━━━━━━━━━━━━┻━━━━━━━━━━━━━━━━━━━━┻━━━━━━━━━━━━━━━━━━━━━━━━━━━┻━━━━━━━━━━━━━━━━━━━━━━━━┛\n"
          ]
        }
      ],
      "source": [
        "results_data = []\n",
        "\n",
        "# KMeans clustering with different preprocessing techniques\n",
        "preprocessing_techniques = {\n",
        "    \"No Preprocessing\": X,\n",
        "    \"Normalization\": MinMaxScaler().fit_transform(X),\n",
        "    \"PCA\": PCA(n_components=2).fit_transform(X),\n",
        "    \"Transform + Normalization\": MinMaxScaler().fit_transform(PCA(n_components=2).fit_transform(X)),\n",
        "    \"Transform + Normalization + PCA\": PCA(n_components=2).fit_transform(MinMaxScaler().fit_transform(X))\n",
        "}\n",
        "\n",
        "for technique, data in preprocessing_techniques.items():\n",
        "    # Perform KMeans clustering\n",
        "    clustering = KMeans(n_clusters=3, n_init='auto')\n",
        "    labels = clustering.fit_predict(data)\n",
        "\n",
        "    # Calculate evaluation metrics\n",
        "    silhouette = silhouette_score(data, labels)\n",
        "    calinski_harabasz = calinski_harabasz_score(data, labels)\n",
        "    davies_bouldin = davies_bouldin_score(data, labels)\n",
        "\n",
        "    # Append results to the list\n",
        "    results_data.append([technique, silhouette, calinski_harabasz, davies_bouldin])\n",
        "\n",
        "# Table headers\n",
        "headers = [\"Preprocessing Technique\", \"Silhouette Score\", \"Calinski-Harabasz Score\", \"Davies-Bouldin Score\"]\n",
        "\n",
        "# Display the table\n",
        "print(tabulate(results_data, headers=headers,tablefmt='heavy_grid'))"
      ]
    },
    {
      "cell_type": "markdown",
      "metadata": {
        "id": "BHGjmOtyQ48N"
      },
      "source": [
        "#### N = 4"
      ]
    },
    {
      "cell_type": "code",
      "execution_count": 4,
      "metadata": {
        "colab": {
          "base_uri": "https://localhost:8080/"
        },
        "id": "B5FN92YGQ48N",
        "outputId": "99cf3cae-0f88-4a79-dcb8-872dc7968de5"
      },
      "outputs": [
        {
          "output_type": "stream",
          "name": "stdout",
          "text": [
            "┏━━━━━━━━━━━━━━━━━━━━━━━━━━━━━━━━━┳━━━━━━━━━━━━━━━━━━━━┳━━━━━━━━━━━━━━━━━━━━━━━━━━━┳━━━━━━━━━━━━━━━━━━━━━━━━┓\n",
            "┃ Preprocessing Technique         ┃   Silhouette Score ┃   Calinski-Harabasz Score ┃   Davies-Bouldin Score ┃\n",
            "┣━━━━━━━━━━━━━━━━━━━━━━━━━━━━━━━━━╋━━━━━━━━━━━━━━━━━━━━╋━━━━━━━━━━━━━━━━━━━━━━━━━━━╋━━━━━━━━━━━━━━━━━━━━━━━━┫\n",
            "┃ No Preprocessing                ┃           0.557484 ┃                  595.716  ┃               0.502467 ┃\n",
            "┣━━━━━━━━━━━━━━━━━━━━━━━━━━━━━━━━━╋━━━━━━━━━━━━━━━━━━━━╋━━━━━━━━━━━━━━━━━━━━━━━━━━━╋━━━━━━━━━━━━━━━━━━━━━━━━┫\n",
            "┃ Normalization                   ┃           0.245824 ┃                   65.7308 ┃               1.64723  ┃\n",
            "┣━━━━━━━━━━━━━━━━━━━━━━━━━━━━━━━━━╋━━━━━━━━━━━━━━━━━━━━╋━━━━━━━━━━━━━━━━━━━━━━━━━━━╋━━━━━━━━━━━━━━━━━━━━━━━━┫\n",
            "┃ PCA                             ┃           0.560205 ┃                  704.218  ┃               0.544438 ┃\n",
            "┣━━━━━━━━━━━━━━━━━━━━━━━━━━━━━━━━━╋━━━━━━━━━━━━━━━━━━━━╋━━━━━━━━━━━━━━━━━━━━━━━━━━━╋━━━━━━━━━━━━━━━━━━━━━━━━┫\n",
            "┃ Transform + Normalization       ┃           0.372671 ┃                  177.393  ┃               0.898803 ┃\n",
            "┣━━━━━━━━━━━━━━━━━━━━━━━━━━━━━━━━━╋━━━━━━━━━━━━━━━━━━━━╋━━━━━━━━━━━━━━━━━━━━━━━━━━━╋━━━━━━━━━━━━━━━━━━━━━━━━┫\n",
            "┃ Transform + Normalization + PCA ┃           0.490159 ┃                  353.37   ┃               0.736498 ┃\n",
            "┗━━━━━━━━━━━━━━━━━━━━━━━━━━━━━━━━━┻━━━━━━━━━━━━━━━━━━━━┻━━━━━━━━━━━━━━━━━━━━━━━━━━━┻━━━━━━━━━━━━━━━━━━━━━━━━┛\n"
          ]
        }
      ],
      "source": [
        "results_data = []\n",
        "\n",
        "# KMeans clustering with different preprocessing techniques\n",
        "preprocessing_techniques = {\n",
        "    \"No Preprocessing\": X,\n",
        "    \"Normalization\": MinMaxScaler().fit_transform(X),\n",
        "    \"PCA\": PCA(n_components=2).fit_transform(X),\n",
        "    \"Transform + Normalization\": MinMaxScaler().fit_transform(PCA(n_components=2).fit_transform(X)),\n",
        "    \"Transform + Normalization + PCA\": PCA(n_components=2).fit_transform(MinMaxScaler().fit_transform(X))\n",
        "}\n",
        "\n",
        "for technique, data in preprocessing_techniques.items():\n",
        "    # Perform KMeans clustering\n",
        "    clustering = KMeans(n_clusters=4, n_init='auto')\n",
        "    labels = clustering.fit_predict(data)\n",
        "\n",
        "    # Calculate evaluation metrics\n",
        "    silhouette = silhouette_score(data, labels)\n",
        "    calinski_harabasz = calinski_harabasz_score(data, labels)\n",
        "    davies_bouldin = davies_bouldin_score(data, labels)\n",
        "\n",
        "    # Append results to the list\n",
        "    results_data.append([technique, silhouette, calinski_harabasz, davies_bouldin])\n",
        "\n",
        "# Table headers\n",
        "headers = [\"Preprocessing Technique\", \"Silhouette Score\", \"Calinski-Harabasz Score\", \"Davies-Bouldin Score\"]\n",
        "\n",
        "# Display the table\n",
        "print(tabulate(results_data, headers=headers,tablefmt='heavy_grid'))"
      ]
    },
    {
      "cell_type": "markdown",
      "metadata": {
        "id": "bG_N1NqGQ48N"
      },
      "source": [
        "#### N = 5"
      ]
    },
    {
      "cell_type": "code",
      "execution_count": 5,
      "metadata": {
        "colab": {
          "base_uri": "https://localhost:8080/"
        },
        "id": "qrocBB9iQ48N",
        "outputId": "5e6e873b-3241-4d96-d453-ec3c72e2baa3"
      },
      "outputs": [
        {
          "output_type": "stream",
          "name": "stdout",
          "text": [
            "┏━━━━━━━━━━━━━━━━━━━━━━━━━━━━━━━━━┳━━━━━━━━━━━━━━━━━━━━┳━━━━━━━━━━━━━━━━━━━━━━━━━━━┳━━━━━━━━━━━━━━━━━━━━━━━━┓\n",
            "┃ Preprocessing Technique         ┃   Silhouette Score ┃   Calinski-Harabasz Score ┃   Davies-Bouldin Score ┃\n",
            "┣━━━━━━━━━━━━━━━━━━━━━━━━━━━━━━━━━╋━━━━━━━━━━━━━━━━━━━━╋━━━━━━━━━━━━━━━━━━━━━━━━━━━╋━━━━━━━━━━━━━━━━━━━━━━━━┫\n",
            "┃ No Preprocessing                ┃           0.556902 ┃                  725.25   ┃               0.505097 ┃\n",
            "┣━━━━━━━━━━━━━━━━━━━━━━━━━━━━━━━━━╋━━━━━━━━━━━━━━━━━━━━╋━━━━━━━━━━━━━━━━━━━━━━━━━━━╋━━━━━━━━━━━━━━━━━━━━━━━━┫\n",
            "┃ Normalization                   ┃           0.239574 ┃                   53.4687 ┃               1.70277  ┃\n",
            "┣━━━━━━━━━━━━━━━━━━━━━━━━━━━━━━━━━╋━━━━━━━━━━━━━━━━━━━━╋━━━━━━━━━━━━━━━━━━━━━━━━━━━╋━━━━━━━━━━━━━━━━━━━━━━━━┫\n",
            "┃ PCA                             ┃           0.562989 ┃                  705.916  ┃               0.493183 ┃\n",
            "┣━━━━━━━━━━━━━━━━━━━━━━━━━━━━━━━━━╋━━━━━━━━━━━━━━━━━━━━╋━━━━━━━━━━━━━━━━━━━━━━━━━━━╋━━━━━━━━━━━━━━━━━━━━━━━━┫\n",
            "┃ Transform + Normalization       ┃           0.339018 ┃                  167.092  ┃               0.987258 ┃\n",
            "┣━━━━━━━━━━━━━━━━━━━━━━━━━━━━━━━━━╋━━━━━━━━━━━━━━━━━━━━╋━━━━━━━━━━━━━━━━━━━━━━━━━━━╋━━━━━━━━━━━━━━━━━━━━━━━━┫\n",
            "┃ Transform + Normalization + PCA ┃           0.448313 ┃                  344.472  ┃               0.779558 ┃\n",
            "┗━━━━━━━━━━━━━━━━━━━━━━━━━━━━━━━━━┻━━━━━━━━━━━━━━━━━━━━┻━━━━━━━━━━━━━━━━━━━━━━━━━━━┻━━━━━━━━━━━━━━━━━━━━━━━━┛\n"
          ]
        }
      ],
      "source": [
        "results_data = []\n",
        "\n",
        "# KMeans clustering with different preprocessing techniques\n",
        "preprocessing_techniques = {\n",
        "    \"No Preprocessing\": X,\n",
        "    \"Normalization\": MinMaxScaler().fit_transform(X),\n",
        "    \"PCA\": PCA(n_components=2).fit_transform(X),\n",
        "    \"Transform + Normalization\": MinMaxScaler().fit_transform(PCA(n_components=2).fit_transform(X)),\n",
        "    \"Transform + Normalization + PCA\": PCA(n_components=2).fit_transform(MinMaxScaler().fit_transform(X))\n",
        "}\n",
        "\n",
        "for technique, data in preprocessing_techniques.items():\n",
        "    # Perform KMeans clustering\n",
        "    clustering = KMeans(n_clusters=5, n_init='auto')\n",
        "    labels = clustering.fit_predict(data)\n",
        "\n",
        "    # Calculate evaluation metrics\n",
        "    silhouette = silhouette_score(data, labels)\n",
        "    calinski_harabasz = calinski_harabasz_score(data, labels)\n",
        "    davies_bouldin = davies_bouldin_score(data, labels)\n",
        "\n",
        "    # Append results to the list\n",
        "    results_data.append([technique, silhouette, calinski_harabasz, davies_bouldin])\n",
        "\n",
        "# Table headers\n",
        "headers = [\"Preprocessing Technique\", \"Silhouette Score\", \"Calinski-Harabasz Score\", \"Davies-Bouldin Score\"]\n",
        "\n",
        "# Display the table\n",
        "print(tabulate(results_data, headers=headers,tablefmt='heavy_grid'))"
      ]
    },
    {
      "cell_type": "markdown",
      "metadata": {
        "id": "8TbzTyOeQ48O"
      },
      "source": [
        "## Hierarchial Clustering"
      ]
    },
    {
      "cell_type": "markdown",
      "metadata": {
        "id": "Cz1kpCuMQ48O"
      },
      "source": [
        "#### N = 3"
      ]
    },
    {
      "cell_type": "code",
      "execution_count": 6,
      "metadata": {
        "colab": {
          "base_uri": "https://localhost:8080/"
        },
        "id": "bkZVPMYvQ48O",
        "outputId": "68027ec9-03c0-4646-90d8-952c2341838f"
      },
      "outputs": [
        {
          "output_type": "stream",
          "name": "stdout",
          "text": [
            "┏━━━━━━━━━━━━━━━━━━━━━━━━━━━━━━━━━┳━━━━━━━━━━━━━━━━━━━━┳━━━━━━━━━━━━━━━━━━━━━━━━━━━┳━━━━━━━━━━━━━━━━━━━━━━━━┓\n",
            "┃ Preprocessing Technique         ┃   Silhouette Score ┃   Calinski-Harabasz Score ┃   Davies-Bouldin Score ┃\n",
            "┣━━━━━━━━━━━━━━━━━━━━━━━━━━━━━━━━━╋━━━━━━━━━━━━━━━━━━━━╋━━━━━━━━━━━━━━━━━━━━━━━━━━━╋━━━━━━━━━━━━━━━━━━━━━━━━┫\n",
            "┃ No Preprocessing                ┃           0.56448  ┃                  552.852  ┃               0.535734 ┃\n",
            "┣━━━━━━━━━━━━━━━━━━━━━━━━━━━━━━━━━╋━━━━━━━━━━━━━━━━━━━━╋━━━━━━━━━━━━━━━━━━━━━━━━━━━╋━━━━━━━━━━━━━━━━━━━━━━━━┫\n",
            "┃ Normalization                   ┃           0.294829 ┃                   81.3276 ┃               1.31831  ┃\n",
            "┣━━━━━━━━━━━━━━━━━━━━━━━━━━━━━━━━━╋━━━━━━━━━━━━━━━━━━━━╋━━━━━━━━━━━━━━━━━━━━━━━━━━━╋━━━━━━━━━━━━━━━━━━━━━━━━┫\n",
            "┃ PCA                             ┃           0.565581 ┃                  553.532  ┃               0.534284 ┃\n",
            "┣━━━━━━━━━━━━━━━━━━━━━━━━━━━━━━━━━╋━━━━━━━━━━━━━━━━━━━━╋━━━━━━━━━━━━━━━━━━━━━━━━━━━╋━━━━━━━━━━━━━━━━━━━━━━━━┫\n",
            "┃ Transform + Normalization       ┃           0.488274 ┃                  185.199  ┃               0.732087 ┃\n",
            "┣━━━━━━━━━━━━━━━━━━━━━━━━━━━━━━━━━╋━━━━━━━━━━━━━━━━━━━━╋━━━━━━━━━━━━━━━━━━━━━━━━━━━╋━━━━━━━━━━━━━━━━━━━━━━━━┫\n",
            "┃ Transform + Normalization + PCA ┃           0.543327 ┃                  339.195  ┃               0.614154 ┃\n",
            "┗━━━━━━━━━━━━━━━━━━━━━━━━━━━━━━━━━┻━━━━━━━━━━━━━━━━━━━━┻━━━━━━━━━━━━━━━━━━━━━━━━━━━┻━━━━━━━━━━━━━━━━━━━━━━━━┛\n"
          ]
        }
      ],
      "source": [
        "results_data = []\n",
        "\n",
        "preprocessing_techniques = {\n",
        "    \"No Preprocessing\": X,\n",
        "    \"Normalization\": MinMaxScaler().fit_transform(X),\n",
        "    \"PCA\": PCA(n_components=2).fit_transform(X),\n",
        "    \"Transform + Normalization\": MinMaxScaler().fit_transform(PCA(n_components=2).fit_transform(X)),\n",
        "    \"Transform + Normalization + PCA\": PCA(n_components=2).fit_transform(MinMaxScaler().fit_transform(X))\n",
        "}\n",
        "\n",
        "for technique, data in preprocessing_techniques.items():\n",
        "\n",
        "    clustering = AgglomerativeClustering(n_clusters=3)\n",
        "    labels = clustering.fit_predict(data)\n",
        "\n",
        "    # Calculate evaluation metrics\n",
        "    silhouette = silhouette_score(data, labels)\n",
        "    calinski_harabasz = calinski_harabasz_score(data, labels)\n",
        "    davies_bouldin = davies_bouldin_score(data, labels)\n",
        "\n",
        "    # Append results to the list\n",
        "    results_data.append([technique, silhouette, calinski_harabasz, davies_bouldin])\n",
        "\n",
        "# Table headers\n",
        "headers = [\"Preprocessing Technique\", \"Silhouette Score\", \"Calinski-Harabasz Score\", \"Davies-Bouldin Score\"]\n",
        "\n",
        "# Display the table\n",
        "print(tabulate(results_data, headers=headers,tablefmt='heavy_grid'))"
      ]
    },
    {
      "cell_type": "markdown",
      "metadata": {
        "id": "IpJVICyuQ48O"
      },
      "source": [
        "#### N = 4"
      ]
    },
    {
      "cell_type": "code",
      "execution_count": 7,
      "metadata": {
        "colab": {
          "base_uri": "https://localhost:8080/"
        },
        "id": "BvNqYdk1Q48P",
        "outputId": "e6717a02-303d-4648-8288-c0668407903b"
      },
      "outputs": [
        {
          "output_type": "stream",
          "name": "stdout",
          "text": [
            "┏━━━━━━━━━━━━━━━━━━━━━━━━━━━━━━━━━┳━━━━━━━━━━━━━━━━━━━━┳━━━━━━━━━━━━━━━━━━━━━━━━━━━┳━━━━━━━━━━━━━━━━━━━━━━━━┓\n",
            "┃ Preprocessing Technique         ┃   Silhouette Score ┃   Calinski-Harabasz Score ┃   Davies-Bouldin Score ┃\n",
            "┣━━━━━━━━━━━━━━━━━━━━━━━━━━━━━━━━━╋━━━━━━━━━━━━━━━━━━━━╋━━━━━━━━━━━━━━━━━━━━━━━━━━━╋━━━━━━━━━━━━━━━━━━━━━━━━┫\n",
            "┃ No Preprocessing                ┃           0.560673 ┃                  670.626  ┃               0.553574 ┃\n",
            "┣━━━━━━━━━━━━━━━━━━━━━━━━━━━━━━━━━╋━━━━━━━━━━━━━━━━━━━━╋━━━━━━━━━━━━━━━━━━━━━━━━━━━╋━━━━━━━━━━━━━━━━━━━━━━━━┫\n",
            "┃ Normalization                   ┃           0.248703 ┃                   63.5149 ┃               1.75287  ┃\n",
            "┣━━━━━━━━━━━━━━━━━━━━━━━━━━━━━━━━━╋━━━━━━━━━━━━━━━━━━━━╋━━━━━━━━━━━━━━━━━━━━━━━━━━━╋━━━━━━━━━━━━━━━━━━━━━━━━┫\n",
            "┃ PCA                             ┃           0.56192  ┃                  672.023  ┃               0.55233  ┃\n",
            "┣━━━━━━━━━━━━━━━━━━━━━━━━━━━━━━━━━╋━━━━━━━━━━━━━━━━━━━━╋━━━━━━━━━━━━━━━━━━━━━━━━━━━╋━━━━━━━━━━━━━━━━━━━━━━━━┫\n",
            "┃ Transform + Normalization       ┃           0.43544  ┃                  162.015  ┃               0.855049 ┃\n",
            "┣━━━━━━━━━━━━━━━━━━━━━━━━━━━━━━━━━╋━━━━━━━━━━━━━━━━━━━━╋━━━━━━━━━━━━━━━━━━━━━━━━━━━╋━━━━━━━━━━━━━━━━━━━━━━━━┫\n",
            "┃ Transform + Normalization + PCA ┃           0.479548 ┃                  336.884  ┃               0.737687 ┃\n",
            "┗━━━━━━━━━━━━━━━━━━━━━━━━━━━━━━━━━┻━━━━━━━━━━━━━━━━━━━━┻━━━━━━━━━━━━━━━━━━━━━━━━━━━┻━━━━━━━━━━━━━━━━━━━━━━━━┛\n"
          ]
        }
      ],
      "source": [
        "results_data = []\n",
        "\n",
        "# Hierarchical Clustering with different preprocessing techniques\n",
        "preprocessing_techniques = {\n",
        "    \"No Preprocessing\": X,\n",
        "    \"Normalization\": MinMaxScaler().fit_transform(X),\n",
        "    \"PCA\": PCA(n_components=2).fit_transform(X),\n",
        "    \"Transform + Normalization\": MinMaxScaler().fit_transform(PCA(n_components=2).fit_transform(X)),\n",
        "    \"Transform + Normalization + PCA\": PCA(n_components=2).fit_transform(MinMaxScaler().fit_transform(X))\n",
        "}\n",
        "\n",
        "for technique, data in preprocessing_techniques.items():\n",
        "    # Perform hierarchical clustering\n",
        "    clustering = AgglomerativeClustering(n_clusters=4)\n",
        "    labels = clustering.fit_predict(data)\n",
        "\n",
        "    # Calculate evaluation metrics\n",
        "    silhouette = silhouette_score(data, labels)\n",
        "    calinski_harabasz = calinski_harabasz_score(data, labels)\n",
        "    davies_bouldin = davies_bouldin_score(data, labels)\n",
        "\n",
        "    # Append results to the list\n",
        "    results_data.append([technique, silhouette, calinski_harabasz, davies_bouldin])\n",
        "\n",
        "# Table headers\n",
        "headers = [\"Preprocessing Technique\", \"Silhouette Score\", \"Calinski-Harabasz Score\", \"Davies-Bouldin Score\"]\n",
        "\n",
        "# Display the table\n",
        "print(tabulate(results_data, headers=headers,tablefmt='heavy_grid'))"
      ]
    },
    {
      "cell_type": "markdown",
      "metadata": {
        "id": "z4TzM88YQ48P"
      },
      "source": [
        "#### N = 5"
      ]
    },
    {
      "cell_type": "code",
      "execution_count": 8,
      "metadata": {
        "colab": {
          "base_uri": "https://localhost:8080/"
        },
        "id": "lHRbS3k5Q48P",
        "outputId": "60129e95-87f5-4110-b3a2-0a5a60f11dcf"
      },
      "outputs": [
        {
          "output_type": "stream",
          "name": "stdout",
          "text": [
            "┏━━━━━━━━━━━━━━━━━━━━━━━━━━━━━━━━━┳━━━━━━━━━━━━━━━━━━━━┳━━━━━━━━━━━━━━━━━━━━━━━━━━━┳━━━━━━━━━━━━━━━━━━━━━━━━┓\n",
            "┃ Preprocessing Technique         ┃   Silhouette Score ┃   Calinski-Harabasz Score ┃   Davies-Bouldin Score ┃\n",
            "┣━━━━━━━━━━━━━━━━━━━━━━━━━━━━━━━━━╋━━━━━━━━━━━━━━━━━━━━╋━━━━━━━━━━━━━━━━━━━━━━━━━━━╋━━━━━━━━━━━━━━━━━━━━━━━━┫\n",
            "┃ No Preprocessing                ┃           0.507484 ┃                   684.223 ┃               0.551315 ┃\n",
            "┣━━━━━━━━━━━━━━━━━━━━━━━━━━━━━━━━━╋━━━━━━━━━━━━━━━━━━━━╋━━━━━━━━━━━━━━━━━━━━━━━━━━━╋━━━━━━━━━━━━━━━━━━━━━━━━┫\n",
            "┃ Normalization                   ┃           0.204154 ┃                    52.277 ┃               1.93678  ┃\n",
            "┣━━━━━━━━━━━━━━━━━━━━━━━━━━━━━━━━━╋━━━━━━━━━━━━━━━━━━━━╋━━━━━━━━━━━━━━━━━━━━━━━━━━━╋━━━━━━━━━━━━━━━━━━━━━━━━┫\n",
            "┃ PCA                             ┃           0.500913 ┃                   685.285 ┃               0.556345 ┃\n",
            "┣━━━━━━━━━━━━━━━━━━━━━━━━━━━━━━━━━╋━━━━━━━━━━━━━━━━━━━━╋━━━━━━━━━━━━━━━━━━━━━━━━━━━╋━━━━━━━━━━━━━━━━━━━━━━━━┫\n",
            "┃ Transform + Normalization       ┃           0.290971 ┃                   153.764 ┃               0.972148 ┃\n",
            "┣━━━━━━━━━━━━━━━━━━━━━━━━━━━━━━━━━╋━━━━━━━━━━━━━━━━━━━━╋━━━━━━━━━━━━━━━━━━━━━━━━━━━╋━━━━━━━━━━━━━━━━━━━━━━━━┫\n",
            "┃ Transform + Normalization + PCA ┃           0.447246 ┃                   337.009 ┃               0.757651 ┃\n",
            "┗━━━━━━━━━━━━━━━━━━━━━━━━━━━━━━━━━┻━━━━━━━━━━━━━━━━━━━━┻━━━━━━━━━━━━━━━━━━━━━━━━━━━┻━━━━━━━━━━━━━━━━━━━━━━━━┛\n"
          ]
        }
      ],
      "source": [
        "results_data = []\n",
        "\n",
        "# Hierarchical Clustering with different preprocessing techniques\n",
        "preprocessing_techniques = {\n",
        "    \"No Preprocessing\": X,\n",
        "    \"Normalization\": MinMaxScaler().fit_transform(X),\n",
        "    \"PCA\": PCA(n_components=2).fit_transform(X),\n",
        "    \"Transform + Normalization\": MinMaxScaler().fit_transform(PCA(n_components=2).fit_transform(X)),\n",
        "    \"Transform + Normalization + PCA\": PCA(n_components=2).fit_transform(MinMaxScaler().fit_transform(X))\n",
        "}\n",
        "\n",
        "for technique, data in preprocessing_techniques.items():\n",
        "    # Perform hierarchical clustering\n",
        "    clustering = AgglomerativeClustering(n_clusters=5)\n",
        "    labels = clustering.fit_predict(data)\n",
        "\n",
        "    # Calculate evaluation metrics\n",
        "    silhouette = silhouette_score(data, labels)\n",
        "    calinski_harabasz = calinski_harabasz_score(data, labels)\n",
        "    davies_bouldin = davies_bouldin_score(data, labels)\n",
        "\n",
        "    # Append results to the list\n",
        "    results_data.append([technique, silhouette, calinski_harabasz, davies_bouldin])\n",
        "\n",
        "# Table headers\n",
        "headers = [\"Preprocessing Technique\", \"Silhouette Score\", \"Calinski-Harabasz Score\", \"Davies-Bouldin Score\"]\n",
        "\n",
        "# Display the table\n",
        "print(tabulate(results_data, headers=headers,tablefmt='heavy_grid'))"
      ]
    },
    {
      "cell_type": "markdown",
      "metadata": {
        "id": "346enGmOQ48R"
      },
      "source": [
        "## Spectral Clustering"
      ]
    },
    {
      "cell_type": "markdown",
      "metadata": {
        "id": "Yydnsde_Q48R"
      },
      "source": [
        "#### N = 3"
      ]
    },
    {
      "cell_type": "code",
      "execution_count": 9,
      "metadata": {
        "colab": {
          "base_uri": "https://localhost:8080/"
        },
        "id": "_22fO-1SQ48R",
        "outputId": "5b48b882-915f-478e-ab38-25f62da6e385"
      },
      "outputs": [
        {
          "output_type": "stream",
          "name": "stdout",
          "text": [
            "┏━━━━━━━━━━━━━━━━━━━━━━━━━━━━━━━━━┳━━━━━━━━━━━━━━━━━━━━┳━━━━━━━━━━━━━━━━━━━━━━━━━━━┳━━━━━━━━━━━━━━━━━━━━━━━━┓\n",
            "┃ Preprocessing Technique         ┃   Silhouette Score ┃   Calinski-Harabasz Score ┃   Davies-Bouldin Score ┃\n",
            "┣━━━━━━━━━━━━━━━━━━━━━━━━━━━━━━━━━╋━━━━━━━━━━━━━━━━━━━━╋━━━━━━━━━━━━━━━━━━━━━━━━━━━╋━━━━━━━━━━━━━━━━━━━━━━━━┫\n",
            "┃ No Preprocessing                ┃           0.280348 ┃                   3.3691  ┃               0.447723 ┃\n",
            "┣━━━━━━━━━━━━━━━━━━━━━━━━━━━━━━━━━╋━━━━━━━━━━━━━━━━━━━━╋━━━━━━━━━━━━━━━━━━━━━━━━━━━╋━━━━━━━━━━━━━━━━━━━━━━━━┫\n",
            "┃ Normalization                   ┃           0.299876 ┃                  82.8284  ┃               1.31162  ┃\n",
            "┣━━━━━━━━━━━━━━━━━━━━━━━━━━━━━━━━━╋━━━━━━━━━━━━━━━━━━━━╋━━━━━━━━━━━━━━━━━━━━━━━━━━━╋━━━━━━━━━━━━━━━━━━━━━━━━┫\n",
            "┃ PCA                             ┃          -0.067969 ┃                   1.98697 ┃               0.84763  ┃\n",
            "┣━━━━━━━━━━━━━━━━━━━━━━━━━━━━━━━━━╋━━━━━━━━━━━━━━━━━━━━╋━━━━━━━━━━━━━━━━━━━━━━━━━━━╋━━━━━━━━━━━━━━━━━━━━━━━━┫\n",
            "┃ Transform + Normalization       ┃           0.472545 ┃                 191.424   ┃               0.828305 ┃\n",
            "┣━━━━━━━━━━━━━━━━━━━━━━━━━━━━━━━━━╋━━━━━━━━━━━━━━━━━━━━╋━━━━━━━━━━━━━━━━━━━━━━━━━━━╋━━━━━━━━━━━━━━━━━━━━━━━━┫\n",
            "┃ Transform + Normalization + PCA ┃           0.566225 ┃                 370.315   ┃               0.587896 ┃\n",
            "┗━━━━━━━━━━━━━━━━━━━━━━━━━━━━━━━━━┻━━━━━━━━━━━━━━━━━━━━┻━━━━━━━━━━━━━━━━━━━━━━━━━━━┻━━━━━━━━━━━━━━━━━━━━━━━━┛\n"
          ]
        }
      ],
      "source": [
        "results_data = []\n",
        "\n",
        "# Spectral clustering with different preprocessing techniques\n",
        "preprocessing_techniques = {\n",
        "    \"No Preprocessing\": X,\n",
        "    \"Normalization\": MinMaxScaler().fit_transform(X),\n",
        "    \"PCA\": PCA(n_components=2).fit_transform(X),\n",
        "    \"Transform + Normalization\": MinMaxScaler().fit_transform(PCA(n_components=2).fit_transform(X)),\n",
        "    \"Transform + Normalization + PCA\": PCA(n_components=2).fit_transform(MinMaxScaler().fit_transform(X))\n",
        "}\n",
        "\n",
        "for technique, data in preprocessing_techniques.items():\n",
        "    # Perform Spectral clustering\n",
        "    clustering = SpectralClustering(n_clusters=3)\n",
        "    labels = clustering.fit_predict(data)\n",
        "\n",
        "    # Calculate evaluation metrics\n",
        "    silhouette = silhouette_score(data, labels)\n",
        "    calinski_harabasz = calinski_harabasz_score(data, labels)\n",
        "    davies_bouldin = davies_bouldin_score(data, labels)\n",
        "\n",
        "    # Append results to the list\n",
        "    results_data.append([technique, silhouette, calinski_harabasz, davies_bouldin])\n",
        "\n",
        "# Table headers\n",
        "headers = [\"Preprocessing Technique\", \"Silhouette Score\", \"Calinski-Harabasz Score\", \"Davies-Bouldin Score\"]\n",
        "\n",
        "# Display the table\n",
        "print(tabulate(results_data, headers=headers,tablefmt='heavy_grid'))"
      ]
    },
    {
      "cell_type": "markdown",
      "metadata": {
        "id": "zRSroo0BQ48S"
      },
      "source": [
        "#### N = 4"
      ]
    },
    {
      "cell_type": "code",
      "execution_count": 10,
      "metadata": {
        "colab": {
          "base_uri": "https://localhost:8080/"
        },
        "id": "-u130NpzQ48S",
        "outputId": "d53fd0e3-7374-4b22-f6c1-2e414563aa66"
      },
      "outputs": [
        {
          "output_type": "stream",
          "name": "stdout",
          "text": [
            "┏━━━━━━━━━━━━━━━━━━━━━━━━━━━━━━━━━┳━━━━━━━━━━━━━━━━━━━━┳━━━━━━━━━━━━━━━━━━━━━━━━━━━┳━━━━━━━━━━━━━━━━━━━━━━━━┓\n",
            "┃ Preprocessing Technique         ┃   Silhouette Score ┃   Calinski-Harabasz Score ┃   Davies-Bouldin Score ┃\n",
            "┣━━━━━━━━━━━━━━━━━━━━━━━━━━━━━━━━━╋━━━━━━━━━━━━━━━━━━━━╋━━━━━━━━━━━━━━━━━━━━━━━━━━━╋━━━━━━━━━━━━━━━━━━━━━━━━┫\n",
            "┃ No Preprocessing                ┃           0.280348 ┃                   3.3691  ┃               0.447723 ┃\n",
            "┣━━━━━━━━━━━━━━━━━━━━━━━━━━━━━━━━━╋━━━━━━━━━━━━━━━━━━━━╋━━━━━━━━━━━━━━━━━━━━━━━━━━━╋━━━━━━━━━━━━━━━━━━━━━━━━┫\n",
            "┃ Normalization                   ┃           0.24971  ┃                  63.8306  ┃               1.71285  ┃\n",
            "┣━━━━━━━━━━━━━━━━━━━━━━━━━━━━━━━━━╋━━━━━━━━━━━━━━━━━━━━╋━━━━━━━━━━━━━━━━━━━━━━━━━━━╋━━━━━━━━━━━━━━━━━━━━━━━━┫\n",
            "┃ PCA                             ┃          -0.067969 ┃                   1.98697 ┃               0.84763  ┃\n",
            "┣━━━━━━━━━━━━━━━━━━━━━━━━━━━━━━━━━╋━━━━━━━━━━━━━━━━━━━━╋━━━━━━━━━━━━━━━━━━━━━━━━━━━╋━━━━━━━━━━━━━━━━━━━━━━━━┫\n",
            "┃ Transform + Normalization       ┃           0.308307 ┃                 131.698   ┃               0.921237 ┃\n",
            "┣━━━━━━━━━━━━━━━━━━━━━━━━━━━━━━━━━╋━━━━━━━━━━━━━━━━━━━━╋━━━━━━━━━━━━━━━━━━━━━━━━━━━╋━━━━━━━━━━━━━━━━━━━━━━━━┫\n",
            "┃ Transform + Normalization + PCA ┃           0.409725 ┃                 263.871   ┃               0.779379 ┃\n",
            "┗━━━━━━━━━━━━━━━━━━━━━━━━━━━━━━━━━┻━━━━━━━━━━━━━━━━━━━━┻━━━━━━━━━━━━━━━━━━━━━━━━━━━┻━━━━━━━━━━━━━━━━━━━━━━━━┛\n"
          ]
        }
      ],
      "source": [
        "results_data = []\n",
        "\n",
        "# Spectral clustering with different preprocessing techniques\n",
        "preprocessing_techniques = {\n",
        "    \"No Preprocessing\": X,\n",
        "    \"Normalization\": MinMaxScaler().fit_transform(X),\n",
        "    \"PCA\": PCA(n_components=2).fit_transform(X),\n",
        "    \"Transform + Normalization\": MinMaxScaler().fit_transform(PCA(n_components=2).fit_transform(X)),\n",
        "    \"Transform + Normalization + PCA\": PCA(n_components=2).fit_transform(MinMaxScaler().fit_transform(X))\n",
        "}\n",
        "\n",
        "for technique, data in preprocessing_techniques.items():\n",
        "    # Perform Spectral clustering\n",
        "    clustering = SpectralClustering(n_clusters=4)\n",
        "    labels = clustering.fit_predict(data)\n",
        "\n",
        "    # Calculate evaluation metrics\n",
        "    silhouette = silhouette_score(data, labels)\n",
        "    calinski_harabasz = calinski_harabasz_score(data, labels)\n",
        "    davies_bouldin = davies_bouldin_score(data, labels)\n",
        "\n",
        "    # Append results to the list\n",
        "    results_data.append([technique, silhouette, calinski_harabasz, davies_bouldin])\n",
        "\n",
        "# Table headers\n",
        "headers = [\"Preprocessing Technique\", \"Silhouette Score\", \"Calinski-Harabasz Score\", \"Davies-Bouldin Score\"]\n",
        "\n",
        "# Display the table\n",
        "print(tabulate(results_data, headers=headers,tablefmt='heavy_grid'))"
      ]
    },
    {
      "cell_type": "markdown",
      "metadata": {
        "id": "JkN7I0zQQ48S"
      },
      "source": [
        "#### N = 5"
      ]
    },
    {
      "cell_type": "code",
      "execution_count": 11,
      "metadata": {
        "colab": {
          "base_uri": "https://localhost:8080/"
        },
        "id": "DUlquDTcQ48S",
        "outputId": "1c19319d-cc67-4fb9-8035-83160237b3cb"
      },
      "outputs": [
        {
          "output_type": "stream",
          "name": "stdout",
          "text": [
            "┏━━━━━━━━━━━━━━━━━━━━━━━━━━━━━━━━━┳━━━━━━━━━━━━━━━━━━━━┳━━━━━━━━━━━━━━━━━━━━━━━━━━━┳━━━━━━━━━━━━━━━━━━━━━━━━┓\n",
            "┃ Preprocessing Technique         ┃   Silhouette Score ┃   Calinski-Harabasz Score ┃   Davies-Bouldin Score ┃\n",
            "┣━━━━━━━━━━━━━━━━━━━━━━━━━━━━━━━━━╋━━━━━━━━━━━━━━━━━━━━╋━━━━━━━━━━━━━━━━━━━━━━━━━━━╋━━━━━━━━━━━━━━━━━━━━━━━━┫\n",
            "┃ No Preprocessing                ┃           0.280348 ┃                   3.3691  ┃               0.447723 ┃\n",
            "┣━━━━━━━━━━━━━━━━━━━━━━━━━━━━━━━━━╋━━━━━━━━━━━━━━━━━━━━╋━━━━━━━━━━━━━━━━━━━━━━━━━━━╋━━━━━━━━━━━━━━━━━━━━━━━━┫\n",
            "┃ Normalization                   ┃           0.222298 ┃                  51.969   ┃               1.72135  ┃\n",
            "┣━━━━━━━━━━━━━━━━━━━━━━━━━━━━━━━━━╋━━━━━━━━━━━━━━━━━━━━╋━━━━━━━━━━━━━━━━━━━━━━━━━━━╋━━━━━━━━━━━━━━━━━━━━━━━━┫\n",
            "┃ PCA                             ┃          -0.067969 ┃                   1.98697 ┃               0.84763  ┃\n",
            "┣━━━━━━━━━━━━━━━━━━━━━━━━━━━━━━━━━╋━━━━━━━━━━━━━━━━━━━━╋━━━━━━━━━━━━━━━━━━━━━━━━━━━╋━━━━━━━━━━━━━━━━━━━━━━━━┫\n",
            "┃ Transform + Normalization       ┃           0.29841  ┃                 127.731   ┃               0.837691 ┃\n",
            "┣━━━━━━━━━━━━━━━━━━━━━━━━━━━━━━━━━╋━━━━━━━━━━━━━━━━━━━━╋━━━━━━━━━━━━━━━━━━━━━━━━━━━╋━━━━━━━━━━━━━━━━━━━━━━━━┫\n",
            "┃ Transform + Normalization + PCA ┃           0.322012 ┃                 180.189   ┃               0.920902 ┃\n",
            "┗━━━━━━━━━━━━━━━━━━━━━━━━━━━━━━━━━┻━━━━━━━━━━━━━━━━━━━━┻━━━━━━━━━━━━━━━━━━━━━━━━━━━┻━━━━━━━━━━━━━━━━━━━━━━━━┛\n"
          ]
        }
      ],
      "source": [
        "results_data = []\n",
        "\n",
        "# Spectral clustering with different preprocessing techniques\n",
        "preprocessing_techniques = {\n",
        "    \"No Preprocessing\": X,\n",
        "    \"Normalization\": MinMaxScaler().fit_transform(X),\n",
        "    \"PCA\": PCA(n_components=2).fit_transform(X),\n",
        "    \"Transform + Normalization\": MinMaxScaler().fit_transform(PCA(n_components=2).fit_transform(X)),\n",
        "    \"Transform + Normalization + PCA\": PCA(n_components=2).fit_transform(MinMaxScaler().fit_transform(X))\n",
        "}\n",
        "\n",
        "for technique, data in preprocessing_techniques.items():\n",
        "    # Perform Spectral clustering\n",
        "    clustering = SpectralClustering(n_clusters=5)\n",
        "    labels = clustering.fit_predict(data)\n",
        "\n",
        "    # Calculate evaluation metrics\n",
        "    silhouette = silhouette_score(data, labels)\n",
        "    calinski_harabasz = calinski_harabasz_score(data, labels)\n",
        "    davies_bouldin = davies_bouldin_score(data, labels)\n",
        "\n",
        "    # Append results to the list\n",
        "    results_data.append([technique, silhouette, calinski_harabasz, davies_bouldin])\n",
        "\n",
        "# Table headers\n",
        "headers = [\"Preprocessing Technique\", \"Silhouette Score\", \"Calinski-Harabasz Score\", \"Davies-Bouldin Score\"]\n",
        "\n",
        "# Display the table\n",
        "print(tabulate(results_data, headers=headers,tablefmt='heavy_grid'))"
      ]
    }
  ],
  "metadata": {
    "kernelspec": {
      "display_name": "ai",
      "language": "python",
      "name": "python3"
    },
    "language_info": {
      "codemirror_mode": {
        "name": "ipython",
        "version": 3
      },
      "file_extension": ".py",
      "mimetype": "text/x-python",
      "name": "python",
      "nbconvert_exporter": "python",
      "pygments_lexer": "ipython3",
      "version": "3.10.13"
    },
    "colab": {
      "provenance": [],
      "include_colab_link": true
    }
  },
  "nbformat": 4,
  "nbformat_minor": 0
}